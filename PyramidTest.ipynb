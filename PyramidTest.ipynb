{
 "metadata": {
  "name": "PyramidTest"
 },
 "nbformat": 3,
 "nbformat_minor": 0,
 "worksheets": [
  {
   "cells": [
    {
     "cell_type": "code",
     "collapsed": false,
     "input": [
      "import cv,cv2\n",
      "import numpy as np"
     ],
     "language": "python",
     "metadata": {},
     "outputs": [],
     "prompt_number": 1
    },
    {
     "cell_type": "code",
     "collapsed": false,
     "input": [
      "def get_my_gauss_laplace_list(img, layers=5):\n",
      "    g_list = []\n",
      "    l_list = []\n",
      "    g_list.append(img/255.)\n",
      "    for i in range(layers):\n",
      "        g_list.append(cv2.pyrDown(g_list[-1]))\n",
      "        \n",
      "    for i in range(layers):\n",
      "        l_list.append( g_list[i] - cv2.pyrUp(g_list[i+1]))\n",
      "    return g_list, l_list"
     ],
     "language": "python",
     "metadata": {},
     "outputs": [],
     "prompt_number": 2
    },
    {
     "cell_type": "code",
     "collapsed": false,
     "input": [
      "def reconstruct_image(g_list, l_list):\n",
      "    r_list = [cv2.pyrUp(g_list[-1])+l_list[-1]]\n",
      "    for i in range(len(l_list)-1):\n",
      "        r_list = [cv2.pyrUp(r_list[0])+l_list[-i-2]] + r_list\n",
      "        \n",
      "    return r_list"
     ],
     "language": "python",
     "metadata": {},
     "outputs": [],
     "prompt_number": 3
    },
    {
     "cell_type": "code",
     "collapsed": false,
     "input": [
      "def correct_gamma(img, gamma=2.2):\n",
      "    b = img/255.\n",
      "    c = b**gamma\n",
      "    return np.uint8(c*255)"
     ],
     "language": "python",
     "metadata": {},
     "outputs": [],
     "prompt_number": 1
    },
    {
     "cell_type": "code",
     "collapsed": false,
     "input": [
      "def main():\n",
      "    img1 = cv2.imread('1.jpg')\n",
      "    g_list1, l_list1 = get_my_gauss_laplace_list(img1)\n",
      "    img2 = cv2.imread('2.jpg')\n",
      "    g_list2, l_list2 = get_my_gauss_laplace_list(img2)\n",
      "    m2 = np.zeros_like(img2)\n",
      "    m2[273:318, 345:430] = 255\n",
      "    m1 = 255 - m2\n",
      "    mg_list1, ml_list1 = get_my_gauss_laplace_list(m1)\n",
      "    mg_list2, ml_list2 = get_my_gauss_laplace_list(m2)\n",
      "    lg_1 = []\n",
      "    lg_2 = []\n",
      "    l_final = []\n",
      "    g_final = g_list2\n",
      "    g_final2 = g_list1\n",
      "    tr = 0.5\n",
      "    for i in range(len(l_list1)):\n",
      "        lg_1.append( l_list1[i] * mg_list1[i] )\n",
      "        lg_2.append( l_list2[i] * mg_list2[i] )\n",
      "        l_final.append( tr*lg_1[-1] + (1-tr)*lg_2[-1])\n",
      "        \n",
      "    r_list1 = reconstruct_image(g_final, l_final)\n",
      "    r_list2 = reconstruct_image(g_final2, l_final)\n",
      "    \n",
      "    a = correct_gamma(np.uint8(r_list2[0]*255/np.max(r_list2[0])))\n",
      "#    cv2.imwrite('r1.jpg',np.uint8(r_list1[0]*255/np.max(r_list1[0])) )\n",
      "    cv2.imwrite('rd.jpg', a)"
     ],
     "language": "python",
     "metadata": {},
     "outputs": [],
     "prompt_number": 2
    },
    {
     "cell_type": "code",
     "collapsed": false,
     "input": [
      "def main2():\n",
      "    img1 = cv2.imread('1.jpg')\n",
      "    g_list1, l_list1 = get_my_gauss_laplace_list(img1)\n",
      "    img2 = cv2.imread('2.jpg')\n",
      "    g_list2, l_list2 = get_my_gauss_laplace_list(img2)\n",
      "    m2 = np.zeros_like(img2)\n",
      "    m2[273:318, 345:430] = 255\n",
      "    m1 = 255 - m2\n",
      "    mg_list1, ml_list1 = get_my_gauss_laplace_list(m1)\n",
      "    mg_list2, ml_list2 = get_my_gauss_laplace_list(m2)\n",
      "    lg_1 = []\n",
      "    lg_2 = []\n",
      "    l_final = []\n",
      "    g_final = g_list2\n",
      "    g_final2 = g_list1\n",
      "    tr = 0.9\n",
      "    for i in range(len(l_list1)):\n",
      "        lg_1.append( l_list1[i] * mg_list1[i] )\n",
      "        lg_2.append( l_list2[i] * mg_list2[i] )\n",
      "    \n",
      "    for i in range(len(l_list1)):\n",
      "        if i % 2==0:\n",
      "            l_final.append( tr*lg_2[i] + (1-tr)*lg_1[i])\n",
      "        else:\n",
      "            l_final.append( tr*lg_1[i] + (1-tr)*lg_2[i])\n",
      "#            l_final.append( tr*lg_1[i] + (1-tr)*lg_2[i])\n",
      "        \n",
      "#    r_list1 = reconstruct_image(g_final, l_final)\n",
      "    r_list2 = reconstruct_image(g_final2, l_final)\n",
      "    \n",
      "#    cv2.imwrite('s1.jpg',np.uint8(r_list1[0]*255/np.max(r_list1[0])) )\n",
      "    cv2.imwrite('s222.jpg', np.uint8(r_list2[0]*255/np.max(r_list2[0])) )"
     ],
     "language": "python",
     "metadata": {},
     "outputs": [],
     "prompt_number": 3
    },
    {
     "cell_type": "code",
     "collapsed": false,
     "input": [
      "def main3():\n",
      "    img1 = cv2.imread('a.jpg')\n",
      "    g_list1, l_list1 = get_my_gauss_laplace_list(img1, layers=4)\n",
      "    imgTmp = cv2.imread('2.jpg')\n",
      "    img2 = np.copy(img1)\n",
      "    #left eye\n",
      "    img2[630-100:682+100,490-100:561+100] = imgTmp[278-100:330+100, 209-100:280+100]\n",
      "    #right eye\n",
      "    img2[660-100:705+100,1090-100:1175+100] = imgTmp[273-100:318+100, 345-100:430+100]\n",
      "    g_list2, l_list2 = get_my_gauss_laplace_list(img2, layers=4)\n",
      "    m2 = np.zeros_like(img1)\n",
      "    m2[630:682,490:561] = 255\n",
      "    m2[660:705,1090:1175] = 255\n",
      "    m1 = 255 - m2\n",
      "    mg_list1, ml_list1 = get_my_gauss_laplace_list(m1, layers=4)\n",
      "    mg_list2, ml_list2 = get_my_gauss_laplace_list(m2, layers=4)\n",
      "    lg_1 = []\n",
      "    lg_2 = []\n",
      "    l_final = []\n",
      "    g_final = g_list2\n",
      "    g_final2 = g_list1\n",
      "    tr = 0.5\n",
      "    for i in range(len(l_list1)):\n",
      "        lg_1.append( l_list1[i] * mg_list1[i] )\n",
      "        lg_2.append( l_list2[i] * mg_list2[i] )\n",
      "        l_final.append( tr*lg_1[-1] + (1-tr)*lg_2[-1])\n",
      "        \n",
      "    r_list1 = reconstruct_image(g_final, l_final)\n",
      "    r_list2 = reconstruct_image(g_final2, l_final)\n",
      "    \n",
      "#    cv2.imwrite('ar1.jpg',np.uint8(r_list1[0]*255/np.max(r_list1[0])) )\n",
      "    a = correct_gamma(np.uint8(r_list2[0]*255/np.max(r_list2[0])) )\n",
      "    cv2.imwrite('d.jpg', a)"
     ],
     "language": "python",
     "metadata": {},
     "outputs": [],
     "prompt_number": 33
    },
    {
     "cell_type": "code",
     "collapsed": false,
     "input": [
      "main3()"
     ],
     "language": "python",
     "metadata": {},
     "outputs": [],
     "prompt_number": 34
    },
    {
     "cell_type": "code",
     "collapsed": false,
     "input": [],
     "language": "python",
     "metadata": {},
     "outputs": []
    }
   ],
   "metadata": {}
  }
 ]
}