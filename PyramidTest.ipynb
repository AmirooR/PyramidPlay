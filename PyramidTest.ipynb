{
 "metadata": {
  "name": "PyramidTest"
 },
 "nbformat": 3,
 "nbformat_minor": 0,
 "worksheets": [
  {
   "cells": [
    {
     "cell_type": "code",
     "collapsed": false,
     "input": [
      "import cv,cv2\n",
      "import numpy as np"
     ],
     "language": "python",
     "metadata": {},
     "outputs": [],
     "prompt_number": 59
    },
    {
     "cell_type": "code",
     "collapsed": false,
     "input": [
      "def get_my_gauss_laplace_list(img, layers=5):\n",
      "    g_list = []\n",
      "    l_list = []\n",
      "    g_list.append(img/255.)\n",
      "    for i in range(layers):\n",
      "        g_list.append(cv2.pyrDown(g_list[-1]))\n",
      "        \n",
      "    for i in range(layers):\n",
      "        l_list.append( g_list[i] - cv2.pyrUp(g_list[i+1]))\n",
      "    return g_list, l_list"
     ],
     "language": "python",
     "metadata": {},
     "outputs": [],
     "prompt_number": 60
    },
    {
     "cell_type": "code",
     "collapsed": false,
     "input": [
      "def reconstruct_image(g_list, l_list):\n",
      "    r_list = [cv2.pyrUp(g_list[-1])+l_list[-1]]\n",
      "    for i in range(len(l_list)-1):\n",
      "        r_list = [cv2.pyrUp(r_list[0])+l_list[-i-2]] + r_list\n",
      "        \n",
      "    return r_list"
     ],
     "language": "python",
     "metadata": {},
     "outputs": [],
     "prompt_number": 61
    },
    {
     "cell_type": "code",
     "collapsed": false,
     "input": [
      "img = cv2.imread('1.jpg')\n",
      "g_list, l_list = get_my_gauss_laplace_list(img)"
     ],
     "language": "python",
     "metadata": {},
     "outputs": [],
     "prompt_number": 79
    },
    {
     "cell_type": "code",
     "collapsed": false,
     "input": [
      "for i,g in enumerate(g_list):\n",
      "    print 'gauss: ',i,g.shape\n",
      "    \n",
      "for i,l in enumerate(l_list):\n",
      "    print 'laplace: ',i,l.shape"
     ],
     "language": "python",
     "metadata": {},
     "outputs": [
      {
       "output_type": "stream",
       "stream": "stdout",
       "text": [
        "gauss:  0 (480, 640, 3)\n",
        "gauss:  1 (240, 320, 3)\n",
        "gauss:  2 (120, 160, 3)\n",
        "gauss:  3 (60, 80, 3)\n",
        "gauss:  4 (30, 40, 3)\n",
        "gauss:  5 (15, 20, 3)\n",
        "laplace:  0 (480, 640, 3)\n",
        "laplace:  1 (240, 320, 3)\n",
        "laplace:  2 (120, 160, 3)\n",
        "laplace:  3 (60, 80, 3)\n",
        "laplace:  4 (30, 40, 3)\n"
       ]
      }
     ],
     "prompt_number": 80
    },
    {
     "cell_type": "code",
     "collapsed": false,
     "input": [
      "r_list = reconstruct_image(g_list, l_list)"
     ],
     "language": "python",
     "metadata": {},
     "outputs": [],
     "prompt_number": 81
    },
    {
     "cell_type": "code",
     "collapsed": false,
     "input": [
      "for i,r in enumerate(r_list):\n",
      "    print 'recons: ',i,r.shape\n",
      "    \n",
      "print np.max(r_list[0] - g_list[0])\n",
      "cv2.imwrite('1_copy.jpg', np.uint8( r_list[0]*255) )"
     ],
     "language": "python",
     "metadata": {},
     "outputs": [
      {
       "output_type": "stream",
       "stream": "stdout",
       "text": [
        "recons:  0 (480, 640, 3)\n",
        "recons:  1 (240, 320, 3)\n",
        "recons:  2 (120, 160, 3)\n",
        "recons:  3 (60, 80, 3)\n",
        "recons:  4 (30, 40, 3)\n",
        "3.33066907388e-16\n"
       ]
      },
      {
       "output_type": "pyout",
       "prompt_number": 82,
       "text": [
        "True"
       ]
      }
     ],
     "prompt_number": 82
    },
    {
     "cell_type": "code",
     "collapsed": false,
     "input": [
      "def main():\n",
      "    img1 = cv2.imread('1.jpg')\n",
      "    g_list1, l_list1 = get_my_gauss_laplace_list(img1)\n",
      "    img2 = cv2.imread('2.jpg')\n",
      "    g_list2, l_list2 = get_my_gauss_laplace_list(img2)\n",
      "    m2 = np.zeros_like(img2)\n",
      "    m2[273:318, 345:430] = 255\n",
      "    m1 = 255 - m2\n",
      "    mg_list1, ml_list1 = get_my_gauss_laplace_list(m1)\n",
      "    mg_list2, ml_list2 = get_my_gauss_laplace_list(m2)\n",
      "    lg_1 = []\n",
      "    lg_2 = []\n",
      "    l_final = []\n",
      "    g_final = g_list2\n",
      "    g_final2 = g_list1\n",
      "    tr = 0.5\n",
      "    for i in range(len(l_list1)):\n",
      "        lg_1.append( l_list1[i] * mg_list1[i] )\n",
      "        lg_2.append( l_list2[i] * mg_list2[i] )\n",
      "        l_final.append( tr*lg_1[-1] + (1-tr)*lg_2[-1])\n",
      "        \n",
      "    r_list1 = reconstruct_image(g_final, l_final)\n",
      "    r_list2 = reconstruct_image(g_final2, l_final)\n",
      "    \n",
      "    cv2.imwrite('r1.jpg',np.uint8(r_list1[0]*255/np.max(r_list1[0])) )\n",
      "    cv2.imwrite('r2.jpg', np.uint8(r_list2[0]*255/np.max(r_list2[0])) )"
     ],
     "language": "python",
     "metadata": {},
     "outputs": [],
     "prompt_number": 119
    },
    {
     "cell_type": "code",
     "collapsed": false,
     "input": [
      "def main2():\n",
      "    img1 = cv2.imread('1.jpg')\n",
      "    g_list1, l_list1 = get_my_gauss_laplace_list(img1)\n",
      "    img2 = cv2.imread('2.jpg')\n",
      "    g_list2, l_list2 = get_my_gauss_laplace_list(img2)\n",
      "    m2 = np.zeros_like(img2)\n",
      "    m2[273:318, 345:430] = 255\n",
      "    m1 = 255 - m2\n",
      "    mg_list1, ml_list1 = get_my_gauss_laplace_list(m1)\n",
      "    mg_list2, ml_list2 = get_my_gauss_laplace_list(m2)\n",
      "    lg_1 = []\n",
      "    lg_2 = []\n",
      "    l_final = []\n",
      "    g_final = g_list2\n",
      "    g_final2 = g_list1\n",
      "    tr = 0.9\n",
      "    for i in range(len(l_list1)):\n",
      "        lg_1.append( l_list1[i] * mg_list1[i] )\n",
      "        lg_2.append( l_list2[i] * mg_list2[i] )\n",
      "    \n",
      "    for i in range(len(l_list1)):\n",
      "        if i % 2==0:\n",
      "            l_final.append( tr*lg_2[i] + (1-tr)*lg_1[i])\n",
      "        else:\n",
      "            l_final.append( tr*lg_1[i] + (1-tr)*lg_2[i])\n",
      "#            l_final.append( tr*lg_1[i] + (1-tr)*lg_2[i])\n",
      "        \n",
      "#    r_list1 = reconstruct_image(g_final, l_final)\n",
      "    r_list2 = reconstruct_image(g_final2, l_final)\n",
      "    \n",
      "#    cv2.imwrite('s1.jpg',np.uint8(r_list1[0]*255/np.max(r_list1[0])) )\n",
      "    cv2.imwrite('s222.jpg', np.uint8(r_list2[0]*255/np.max(r_list2[0])) )"
     ],
     "language": "python",
     "metadata": {},
     "outputs": [],
     "prompt_number": 116
    },
    {
     "cell_type": "code",
     "collapsed": false,
     "input": [
      "main()"
     ],
     "language": "python",
     "metadata": {},
     "outputs": [],
     "prompt_number": 120
    },
    {
     "cell_type": "code",
     "collapsed": false,
     "input": [],
     "language": "python",
     "metadata": {},
     "outputs": []
    }
   ],
   "metadata": {}
  }
 ]
}